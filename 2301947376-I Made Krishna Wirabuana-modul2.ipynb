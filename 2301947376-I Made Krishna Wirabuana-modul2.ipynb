{
 "cells": [
  {
   "cell_type": "code",
   "execution_count": 1,
   "id": "676c5252",
   "metadata": {},
   "outputs": [
    {
     "data": {
      "text/plain": [
       "{'key1': 1,\n",
       " 'key2': '2',\n",
       " 'key3': [3, 3, 3],\n",
       " 'key4': (4, 4, 4),\n",
       " 'key5': 5,\n",
       " (0, 1): 6}"
      ]
     },
     "execution_count": 1,
     "metadata": {},
     "output_type": "execute_result"
    }
   ],
   "source": [
    "# Membuat dictionary\n",
    "\n",
    "Dict = {\"key1\": 1, \"key2\": \"2\", \"key3\": [3, 3, 3], \"key4\": (4, 4, 4), ('key5'): 5, (0, 1): 6}\n",
    "Dict"
   ]
  },
  {
   "cell_type": "code",
   "execution_count": 2,
   "id": "daf569e2",
   "metadata": {},
   "outputs": [
    {
     "data": {
      "text/plain": [
       "(4, 4, 4)"
      ]
     },
     "execution_count": 2,
     "metadata": {},
     "output_type": "execute_result"
    }
   ],
   "source": [
    "# Akses nilai dengan kunci\n",
    "\n",
    "Dict[\"key4\"]"
   ]
  },
  {
   "cell_type": "code",
   "execution_count": 3,
   "id": "78388da5",
   "metadata": {},
   "outputs": [
    {
     "data": {
      "text/plain": [
       "{'Doctor Strange': '1982',\n",
       " 'The Falcon and The Winter Soldier': '1980',\n",
       " 'Loki': '1973',\n",
       " 'What if...?': '1992',\n",
       " 'Shang-Chi': '1977',\n",
       " 'Captain Marvel': '1976',\n",
       " 'Hawkeye': '1977',\n",
       " 'Moon Knights': '1977'}"
      ]
     },
     "execution_count": 3,
     "metadata": {},
     "output_type": "execute_result"
    }
   ],
   "source": [
    "# membuat sampel dictionary\n",
    "\n",
    "release_year_dict = {\"Doctor Strange\": \"1982\", \"The Falcon and The Winter Soldier\": \"1980\", \\\n",
    "                    \"Loki\": \"1973\", \"What if...?\": \"1992\", \\\n",
    "                    \"Shang-Chi\": \"1977\", \"Captain Marvel\": \"1976\", \\\n",
    "                    \"Hawkeye\": \"1977\", \"Moon Knights\": \"1977\"}\n",
    "release_year_dict"
   ]
  },
  {
   "cell_type": "code",
   "execution_count": null,
   "id": "10784d97",
   "metadata": {},
   "outputs": [],
   "source": []
  },
  {
   "cell_type": "code",
   "execution_count": 4,
   "id": "74995bff",
   "metadata": {},
   "outputs": [
    {
     "data": {
      "text/plain": [
       "'1982'"
      ]
     },
     "execution_count": 4,
     "metadata": {},
     "output_type": "execute_result"
    }
   ],
   "source": [
    "# Dapatkan nilai dengan kunci\n",
    "\n",
    "release_year_dict['Doctor Strange']"
   ]
  },
  {
   "cell_type": "code",
   "execution_count": 5,
   "id": "bb1a8262",
   "metadata": {},
   "outputs": [
    {
     "data": {
      "text/plain": [
       "dict_values(['1982', '1980', '1973', '1992', '1977', '1976', '1977', '1977'])"
      ]
     },
     "execution_count": 5,
     "metadata": {},
     "output_type": "execute_result"
    }
   ],
   "source": [
    "# Dapatkan semua kunci dan nilai dalam dictionary\n",
    "\n",
    "release_year_dict.values()"
   ]
  },
  {
   "cell_type": "code",
   "execution_count": 6,
   "id": "48288920",
   "metadata": {},
   "outputs": [
    {
     "data": {
      "text/plain": [
       "{'Doctor Strange': '1982',\n",
       " 'The Falcon and The Winter Soldier': '1980',\n",
       " 'What if...?': '1992',\n",
       " 'Shang-Chi': '1977',\n",
       " 'Captain Marvel': '1976',\n",
       " 'Moon Knights': '1977'}"
      ]
     },
     "execution_count": 6,
     "metadata": {},
     "output_type": "execute_result"
    }
   ],
   "source": [
    "# Hapus dengan kunci\n",
    "\n",
    "del(release_year_dict['Hawkeye'])\n",
    "del(release_year_dict['Loki'])\n",
    "release_year_dict"
   ]
  },
  {
   "cell_type": "code",
   "execution_count": 7,
   "id": "d9c77b7b",
   "metadata": {},
   "outputs": [
    {
     "data": {
      "text/plain": [
       "['Gede Ngurah', 10.1, 1997]"
      ]
     },
     "execution_count": 7,
     "metadata": {},
     "output_type": "execute_result"
    }
   ],
   "source": [
    "# Membuat list\n",
    "\n",
    "# Create a list\n",
    "\n",
    "L = [\"Gede Ngurah\", 10.1, 1997]\n",
    "L"
   ]
  },
  {
   "cell_type": "code",
   "execution_count": 8,
   "id": "4e40177d",
   "metadata": {},
   "outputs": [
    {
     "name": "stdout",
     "output_type": "stream",
     "text": [
      "the same element using negative and positive indexing:\n",
      " Postive: Gede Ngurah \n",
      " Negative: Gede Ngurah\n",
      "the same element using negative and positive indexing:\n",
      " Postive: 10.1 \n",
      " Negative: 10.1\n",
      "the same element using negative and positive indexing:\n",
      " Postive: 1997 \n",
      " Negative: 1997\n"
     ]
    }
   ],
   "source": [
    "# Cetak elemen pada setiap indeks\n",
    "\n",
    "print('the same element using negative and positive indexing:\\n Postive:',L[0],\n",
    "'\\n Negative:' , L[-3]  )\n",
    "print('the same element using negative and positive indexing:\\n Postive:',L[1],\n",
    "'\\n Negative:' , L[-2]  )\n",
    "print('the same element using negative and positive indexing:\\n Postive:',L[2],\n",
    "'\\n Negative:' , L[-1]  )"
   ]
  },
  {
   "cell_type": "code",
   "execution_count": 9,
   "id": "14c77a70",
   "metadata": {},
   "outputs": [
    {
     "data": {
      "text/plain": [
       "['Gede Ngurah', 10.1, 1982, [1, 2], ('A', 1)]"
      ]
     },
     "execution_count": 9,
     "metadata": {},
     "output_type": "execute_result"
    }
   ],
   "source": [
    "# Sampel list\n",
    "\n",
    "[\"Gede Ngurah\", 10.1, 1982, [1, 2], (\"A\", 1)]"
   ]
  },
  {
   "cell_type": "code",
   "execution_count": 10,
   "id": "fdc559bc",
   "metadata": {},
   "outputs": [
    {
     "data": {
      "text/plain": [
       "['Gede Ngurah', 10.1, 1982, 'MJ', 1]"
      ]
     },
     "execution_count": 10,
     "metadata": {},
     "output_type": "execute_result"
    }
   ],
   "source": [
    "# Sampel List \n",
    "\n",
    "L = [\"Gede Ngurah\", 10.1,1982,\"MJ\",1]\n",
    "L"
   ]
  },
  {
   "cell_type": "code",
   "execution_count": 11,
   "id": "0b7dd029",
   "metadata": {},
   "outputs": [
    {
     "data": {
      "text/plain": [
       "['MJ', 1]"
      ]
     },
     "execution_count": 11,
     "metadata": {},
     "output_type": "execute_result"
    }
   ],
   "source": [
    "# Mengiris list\n",
    "\n",
    "L[3:5]"
   ]
  },
  {
   "cell_type": "code",
   "execution_count": 12,
   "id": "7a4a26c0",
   "metadata": {},
   "outputs": [
    {
     "data": {
      "text/plain": [
       "['Gede Ngurah', 10.2, 'pop', 10]"
      ]
     },
     "execution_count": 12,
     "metadata": {},
     "output_type": "execute_result"
    }
   ],
   "source": [
    "# Gunakan perluasan untuk menambahkan elemen ke daftar\n",
    "\n",
    "L = [ \"Gede Ngurah\", 10.2]\n",
    "L.extend(['pop', 10])\n",
    "L"
   ]
  },
  {
   "cell_type": "code",
   "execution_count": 13,
   "id": "eb375f38",
   "metadata": {},
   "outputs": [
    {
     "data": {
      "text/plain": [
       "{'R&B', 'disco', 'hard rock', 'pop', 'rock', 'soul'}"
      ]
     },
     "execution_count": 13,
     "metadata": {},
     "output_type": "execute_result"
    }
   ],
   "source": [
    "# Bikin satu set\n",
    "\n",
    "set1 = {\"pop\", \"rock\", \"soul\", \"hard rock\", \"rock\", \"R&B\", \"rock\", \"disco\"}\n",
    "set1"
   ]
  },
  {
   "cell_type": "code",
   "execution_count": 14,
   "id": "1c062e15",
   "metadata": {},
   "outputs": [
    {
     "data": {
      "text/plain": [
       "{'00:42:19',\n",
       " 10.0,\n",
       " 1982,\n",
       " '30-Nov-82',\n",
       " 46.0,\n",
       " 65,\n",
       " 'Doctor Strange',\n",
       " 'Gede Ngurah',\n",
       " None,\n",
       " 'Pop, Rock, R&B'}"
      ]
     },
     "execution_count": 14,
     "metadata": {},
     "output_type": "execute_result"
    }
   ],
   "source": [
    "# Mengubah daftar menjadi set\n",
    "\n",
    "album_list = [ \"Gede Ngurah\", \"Doctor Strange\", 1982, \"00:42:19\", \\\n",
    "              \"Pop, Rock, R&B\", 46.0, 65, \"30-Nov-82\", None, 10.0]\n",
    "album_set = set(album_list)             \n",
    "album_set"
   ]
  },
  {
   "cell_type": "code",
   "execution_count": 15,
   "id": "8070869b",
   "metadata": {},
   "outputs": [
    {
     "data": {
      "text/plain": [
       "{'R&B',\n",
       " 'disco',\n",
       " 'folk rock',\n",
       " 'hard rock',\n",
       " 'pop',\n",
       " 'progressive rock',\n",
       " 'rock',\n",
       " 'soft rock',\n",
       " 'soul'}"
      ]
     },
     "execution_count": 15,
     "metadata": {},
     "output_type": "execute_result"
    }
   ],
   "source": [
    "music_genres = set([\"pop\", \"pop\", \"rock\", \"folk rock\", \"hard rock\", \"soul\", \\\n",
    "                    \"progressive rock\", \"soft rock\", \"R&B\", \"disco\"])\n",
    "music_genres\n"
   ]
  },
  {
   "cell_type": "code",
   "execution_count": null,
   "id": "7e5d3f94",
   "metadata": {},
   "outputs": [],
   "source": []
  }
 ],
 "metadata": {
  "kernelspec": {
   "display_name": "Python 3 (ipykernel)",
   "language": "python",
   "name": "python3"
  },
  "language_info": {
   "codemirror_mode": {
    "name": "ipython",
    "version": 3
   },
   "file_extension": ".py",
   "mimetype": "text/x-python",
   "name": "python",
   "nbconvert_exporter": "python",
   "pygments_lexer": "ipython3",
   "version": "3.9.7"
  }
 },
 "nbformat": 4,
 "nbformat_minor": 5
}
